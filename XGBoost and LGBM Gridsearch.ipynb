{
 "cells": [
  {
   "cell_type": "code",
   "execution_count": 46,
   "id": "4c4a1f9f",
   "metadata": {},
   "outputs": [],
   "source": [
    "from snowflake.snowpark.session import Session\n",
    "import snowflake.snowpark.functions as F\n",
    "import snowflake.snowpark.types as T\n",
    "from snowflake.snowpark.window import Window\n",
    "from sklearn import preprocessing # https://github.com/Snowflake-Labs/snowpark-python-demos/tree/main/sp4py_utilities\n",
    "from snowflake.snowpark.functions import col\n",
    "\n",
    "import getpass\n",
    "import pandas as pd\n",
    "import matplotlib.pyplot as plt"
   ]
  },
  {
   "cell_type": "code",
   "execution_count": 47,
   "id": "413ac0b1",
   "metadata": {},
   "outputs": [],
   "source": [
    "accountname = 'nj07294.ap-southeast-1'\n",
    "#accountname = getpass.getpass() # ORGNAME-ACCOUNTNAME (separated by minus sign)"
   ]
  },
  {
   "cell_type": "code",
   "execution_count": 48,
   "id": "7473a1cf",
   "metadata": {},
   "outputs": [],
   "source": [
    "username = getpass.getpass()    # SNOWFLAKE-USERNAME"
   ]
  },
  {
   "cell_type": "code",
   "execution_count": 49,
   "id": "bdd478fa",
   "metadata": {
    "scrolled": true
   },
   "outputs": [],
   "source": [
    "password = getpass.getpass()    # SNOWFLAKE-PASSWORD"
   ]
  },
  {
   "cell_type": "code",
   "execution_count": 50,
   "id": "750803f9",
   "metadata": {},
   "outputs": [],
   "source": [
    "connection_parameters = {\n",
    "    \"account\": accountname,\n",
    "    \"user\": username,\n",
    "    \"password\": password,\n",
    "    \"role\": \"ACCOUNTADMIN\",\n",
    "    \"database\": \"FROSTBYTE_TASTY_BYTES\",\n",
    "\n",
    "    \"warehouse\": \"HOL_WH\"\n",
    "}\n",
    "\n",
    "session = Session.builder.configs(connection_parameters).create()"
   ]
  },
  {
   "cell_type": "code",
   "execution_count": 51,
   "id": "619c9185",
   "metadata": {},
   "outputs": [],
   "source": [
    "session.use_schema(\"ANALYTICS\")\n",
    "X_final_scaled=session.sql(\"Select * from Sales_Forecast_Training_Data\").to_pandas()"
   ]
  },
  {
   "cell_type": "code",
   "execution_count": 52,
   "id": "db4a4cc3",
   "metadata": {},
   "outputs": [],
   "source": [
    "import pandas as pd\n",
    "from sklearn.model_selection import train_test_split\n",
    "from sklearn.metrics import mean_squared_error, mean_absolute_error, r2_score\n",
    "import math\n",
    "\n",
    "# Split the dataset into features (X) and target (y)\n",
    "X = X_final_scaled.drop(\"PROFIT\",axis=1)\n",
    "y = X_final_scaled[\"PROFIT\"]\n",
    "\n",
    "# Split the dataset into training and testing datasets\n",
    "X_train, X_holdout_test, y_train, y_holdout_test = train_test_split(X, y, test_size=0.4, random_state=42)\n",
    "X_holdout, X_test, y_holdout, y_test = train_test_split(X_holdout_test, y_holdout_test, test_size=0.2, random_state=42)"
   ]
  },
  {
   "cell_type": "code",
   "execution_count": 53,
   "id": "b604e98c",
   "metadata": {},
   "outputs": [
    {
     "data": {
      "text/html": [
       "<style>#sk-container-id-6 {color: black;background-color: white;}#sk-container-id-6 pre{padding: 0;}#sk-container-id-6 div.sk-toggleable {background-color: white;}#sk-container-id-6 label.sk-toggleable__label {cursor: pointer;display: block;width: 100%;margin-bottom: 0;padding: 0.3em;box-sizing: border-box;text-align: center;}#sk-container-id-6 label.sk-toggleable__label-arrow:before {content: \"▸\";float: left;margin-right: 0.25em;color: #696969;}#sk-container-id-6 label.sk-toggleable__label-arrow:hover:before {color: black;}#sk-container-id-6 div.sk-estimator:hover label.sk-toggleable__label-arrow:before {color: black;}#sk-container-id-6 div.sk-toggleable__content {max-height: 0;max-width: 0;overflow: hidden;text-align: left;background-color: #f0f8ff;}#sk-container-id-6 div.sk-toggleable__content pre {margin: 0.2em;color: black;border-radius: 0.25em;background-color: #f0f8ff;}#sk-container-id-6 input.sk-toggleable__control:checked~div.sk-toggleable__content {max-height: 200px;max-width: 100%;overflow: auto;}#sk-container-id-6 input.sk-toggleable__control:checked~label.sk-toggleable__label-arrow:before {content: \"▾\";}#sk-container-id-6 div.sk-estimator input.sk-toggleable__control:checked~label.sk-toggleable__label {background-color: #d4ebff;}#sk-container-id-6 div.sk-label input.sk-toggleable__control:checked~label.sk-toggleable__label {background-color: #d4ebff;}#sk-container-id-6 input.sk-hidden--visually {border: 0;clip: rect(1px 1px 1px 1px);clip: rect(1px, 1px, 1px, 1px);height: 1px;margin: -1px;overflow: hidden;padding: 0;position: absolute;width: 1px;}#sk-container-id-6 div.sk-estimator {font-family: monospace;background-color: #f0f8ff;border: 1px dotted black;border-radius: 0.25em;box-sizing: border-box;margin-bottom: 0.5em;}#sk-container-id-6 div.sk-estimator:hover {background-color: #d4ebff;}#sk-container-id-6 div.sk-parallel-item::after {content: \"\";width: 100%;border-bottom: 1px solid gray;flex-grow: 1;}#sk-container-id-6 div.sk-label:hover label.sk-toggleable__label {background-color: #d4ebff;}#sk-container-id-6 div.sk-serial::before {content: \"\";position: absolute;border-left: 1px solid gray;box-sizing: border-box;top: 0;bottom: 0;left: 50%;z-index: 0;}#sk-container-id-6 div.sk-serial {display: flex;flex-direction: column;align-items: center;background-color: white;padding-right: 0.2em;padding-left: 0.2em;position: relative;}#sk-container-id-6 div.sk-item {position: relative;z-index: 1;}#sk-container-id-6 div.sk-parallel {display: flex;align-items: stretch;justify-content: center;background-color: white;position: relative;}#sk-container-id-6 div.sk-item::before, #sk-container-id-6 div.sk-parallel-item::before {content: \"\";position: absolute;border-left: 1px solid gray;box-sizing: border-box;top: 0;bottom: 0;left: 50%;z-index: -1;}#sk-container-id-6 div.sk-parallel-item {display: flex;flex-direction: column;z-index: 1;position: relative;background-color: white;}#sk-container-id-6 div.sk-parallel-item:first-child::after {align-self: flex-end;width: 50%;}#sk-container-id-6 div.sk-parallel-item:last-child::after {align-self: flex-start;width: 50%;}#sk-container-id-6 div.sk-parallel-item:only-child::after {width: 0;}#sk-container-id-6 div.sk-dashed-wrapped {border: 1px dashed gray;margin: 0 0.4em 0.5em 0.4em;box-sizing: border-box;padding-bottom: 0.4em;background-color: white;}#sk-container-id-6 div.sk-label label {font-family: monospace;font-weight: bold;display: inline-block;line-height: 1.2em;}#sk-container-id-6 div.sk-label-container {text-align: center;}#sk-container-id-6 div.sk-container {/* jupyter's `normalize.less` sets `[hidden] { display: none; }` but bootstrap.min.css set `[hidden] { display: none !important; }` so we also need the `!important` here to be able to override the default hidden behavior on the sphinx rendered scikit-learn.org. See: https://github.com/scikit-learn/scikit-learn/issues/21755 */display: inline-block !important;position: relative;}#sk-container-id-6 div.sk-text-repr-fallback {display: none;}</style><div id=\"sk-container-id-6\" class=\"sk-top-container\"><div class=\"sk-text-repr-fallback\"><pre>LGBMRegressor()</pre><b>In a Jupyter environment, please rerun this cell to show the HTML representation or trust the notebook. <br />On GitHub, the HTML representation is unable to render, please try loading this page with nbviewer.org.</b></div><div class=\"sk-container\" hidden><div class=\"sk-item\"><div class=\"sk-estimator sk-toggleable\"><input class=\"sk-toggleable__control sk-hidden--visually\" id=\"sk-estimator-id-6\" type=\"checkbox\" checked><label for=\"sk-estimator-id-6\" class=\"sk-toggleable__label sk-toggleable__label-arrow\">LGBMRegressor</label><div class=\"sk-toggleable__content\"><pre>LGBMRegressor()</pre></div></div></div></div></div>"
      ],
      "text/plain": [
       "LGBMRegressor()"
      ]
     },
     "execution_count": 53,
     "metadata": {},
     "output_type": "execute_result"
    }
   ],
   "source": [
    "from lightgbm import LGBMRegressor\n",
    "lgbm = LGBMRegressor()\n",
    "lgbm.fit(X_train, y_train)"
   ]
  },
  {
   "cell_type": "code",
   "execution_count": 54,
   "id": "6d47d340",
   "metadata": {},
   "outputs": [
    {
     "name": "stdout",
     "output_type": "stream",
     "text": [
      "Train MSE is:  2014136.3855472703\n",
      "Test MSE is:  2289623.987367086\n",
      "\n",
      "Train RMSE is:  1419.2027288401296\n",
      "Test RMSE is:  1513.150351870919\n",
      "\n",
      "Train MAE is:  1063.968459036136\n",
      "Test MAE is:  1105.815378228909\n",
      "\n",
      "Train R2 is:  0.9527253423956941\n",
      "Test R2 is:  0.9448532150166624\n"
     ]
    }
   ],
   "source": [
    "print('Train MSE is: ', mean_squared_error(lgbm.predict(X_train), y_train))\n",
    "print('Test MSE is: ', mean_squared_error(lgbm.predict(X_test), y_test))\n",
    "print()\n",
    "print('Train RMSE is: ',  math.sqrt(mean_squared_error(lgbm.predict(X_train), y_train)))\n",
    "print('Test RMSE is: ', math.sqrt(mean_squared_error(lgbm.predict(X_test), y_test)))\n",
    "print()\n",
    "print('Train MAE is: ', mean_absolute_error(lgbm.predict(X_train), y_train))\n",
    "print('Test MAE is: ', mean_absolute_error(lgbm.predict(X_test), y_test))\n",
    "print()\n",
    "print('Train R2 is: ', r2_score(lgbm.predict(X_train), y_train))\n",
    "print('Test R2 is: ', r2_score(lgbm.predict(X_test), y_test))"
   ]
  },
  {
   "cell_type": "code",
   "execution_count": 55,
   "id": "45a0c377",
   "metadata": {},
   "outputs": [
    {
     "name": "stdout",
     "output_type": "stream",
     "text": [
      " Results from Grid Search \n",
      "\n",
      " The best estimator across ALL searched params:\n",
      " LGBMRegressor(learning_rate=0.05, max_depth=10, n_estimators=1500,\n",
      "              subsample=0.9)\n",
      "\n",
      " The best score across ALL searched params:\n",
      " 0.967533176646814\n",
      "\n",
      " The best parameters across ALL searched params:\n",
      " {'learning_rate': 0.05, 'max_depth': 10, 'n_estimators': 1500, 'subsample': 0.9}\n"
     ]
    }
   ],
   "source": [
    "from sklearn.model_selection import GridSearchCV\n",
    "from sklearn.model_selection import cross_val_score, cross_validate\n",
    "import seaborn as sns\n",
    "import scipy.stats as stats\n",
    "\n",
    "lgbm = LGBMRegressor()\n",
    "param_grid = {'learning_rate': [0.02,0.03,0.04,0.05],\n",
    "                  'subsample'    : [0.9, 0.5, 0.2],\n",
    "                  'n_estimators' : [500,1000, 1500],\n",
    "                  'max_depth'    : [4,6,8,10,12]\n",
    "                 }\n",
    "\n",
    "grid_lgbm = GridSearchCV(estimator=lgbm, param_grid = param_grid, cv = 2, n_jobs=-1)\n",
    "grid_lgbm.fit(X_train, y_train)\n",
    "\n",
    "print(\" Results from Grid Search \" )\n",
    "print(\"\\n The best estimator across ALL searched params:\\n\",grid_lgbm.best_estimator_)\n",
    "print(\"\\n The best score across ALL searched params:\\n\",grid_lgbm.best_score_)\n",
    "print(\"\\n The best parameters across ALL searched params:\\n\",grid_lgbm.best_params_)"
   ]
  },
  {
   "cell_type": "code",
   "execution_count": 66,
   "id": "7eff2dcc",
   "metadata": {},
   "outputs": [
    {
     "name": "stdout",
     "output_type": "stream",
     "text": [
      "Train MSE is:  389772.8279311479\n",
      "Test MSE is:  715862.4365737954\n",
      "\n",
      "Train RMSE is:  624.317890125814\n",
      "Test RMSE is:  846.0865420119832\n",
      "\n",
      "Train MAE is:  434.1677298911734\n",
      "Test MAE is:  573.5350853583703\n",
      "\n",
      "Train R2 is:  0.9913604554995827\n",
      "Test R2 is:  0.9836946244696078\n"
     ]
    }
   ],
   "source": [
    "lgbm = LGBMRegressor(learning_rate= 0.05, max_depth= 10, n_estimators= 1500, subsample= 0.9)\n",
    "lgbm.fit(X_train, y_train)\n",
    "print('Train MSE is: ', mean_squared_error(lgbm.predict(X_train), y_train))\n",
    "print('Test MSE is: ', mean_squared_error(lgbm.predict(X_test), y_test))\n",
    "print()\n",
    "print('Train RMSE is: ',  math.sqrt(mean_squared_error(lgbm.predict(X_train), y_train)))\n",
    "print('Test RMSE is: ', math.sqrt(mean_squared_error(lgbm.predict(X_test), y_test)))\n",
    "print()\n",
    "print('Train MAE is: ', mean_absolute_error(lgbm.predict(X_train), y_train))\n",
    "print('Test MAE is: ', mean_absolute_error(lgbm.predict(X_test), y_test))\n",
    "print()\n",
    "print('Train R2 is: ', r2_score(lgbm.predict(X_train), y_train))\n",
    "print('Test R2 is: ', r2_score(lgbm.predict(X_test), y_test))"
   ]
  },
  {
   "cell_type": "code",
   "execution_count": 57,
   "id": "48237a4d",
   "metadata": {},
   "outputs": [
    {
     "name": "stderr",
     "output_type": "stream",
     "text": [
      "c:\\Users\\Jammie99\\anaconda3\\envs\\pysnowpark\\lib\\site-packages\\xgboost\\data.py:250: FutureWarning: pandas.Int64Index is deprecated and will be removed from pandas in a future version. Use pandas.Index with the appropriate dtype instead.\n",
      "  elif isinstance(data.columns, (pd.Int64Index, pd.RangeIndex)):\n"
     ]
    },
    {
     "data": {
      "text/html": [
       "<style>#sk-container-id-7 {color: black;background-color: white;}#sk-container-id-7 pre{padding: 0;}#sk-container-id-7 div.sk-toggleable {background-color: white;}#sk-container-id-7 label.sk-toggleable__label {cursor: pointer;display: block;width: 100%;margin-bottom: 0;padding: 0.3em;box-sizing: border-box;text-align: center;}#sk-container-id-7 label.sk-toggleable__label-arrow:before {content: \"▸\";float: left;margin-right: 0.25em;color: #696969;}#sk-container-id-7 label.sk-toggleable__label-arrow:hover:before {color: black;}#sk-container-id-7 div.sk-estimator:hover label.sk-toggleable__label-arrow:before {color: black;}#sk-container-id-7 div.sk-toggleable__content {max-height: 0;max-width: 0;overflow: hidden;text-align: left;background-color: #f0f8ff;}#sk-container-id-7 div.sk-toggleable__content pre {margin: 0.2em;color: black;border-radius: 0.25em;background-color: #f0f8ff;}#sk-container-id-7 input.sk-toggleable__control:checked~div.sk-toggleable__content {max-height: 200px;max-width: 100%;overflow: auto;}#sk-container-id-7 input.sk-toggleable__control:checked~label.sk-toggleable__label-arrow:before {content: \"▾\";}#sk-container-id-7 div.sk-estimator input.sk-toggleable__control:checked~label.sk-toggleable__label {background-color: #d4ebff;}#sk-container-id-7 div.sk-label input.sk-toggleable__control:checked~label.sk-toggleable__label {background-color: #d4ebff;}#sk-container-id-7 input.sk-hidden--visually {border: 0;clip: rect(1px 1px 1px 1px);clip: rect(1px, 1px, 1px, 1px);height: 1px;margin: -1px;overflow: hidden;padding: 0;position: absolute;width: 1px;}#sk-container-id-7 div.sk-estimator {font-family: monospace;background-color: #f0f8ff;border: 1px dotted black;border-radius: 0.25em;box-sizing: border-box;margin-bottom: 0.5em;}#sk-container-id-7 div.sk-estimator:hover {background-color: #d4ebff;}#sk-container-id-7 div.sk-parallel-item::after {content: \"\";width: 100%;border-bottom: 1px solid gray;flex-grow: 1;}#sk-container-id-7 div.sk-label:hover label.sk-toggleable__label {background-color: #d4ebff;}#sk-container-id-7 div.sk-serial::before {content: \"\";position: absolute;border-left: 1px solid gray;box-sizing: border-box;top: 0;bottom: 0;left: 50%;z-index: 0;}#sk-container-id-7 div.sk-serial {display: flex;flex-direction: column;align-items: center;background-color: white;padding-right: 0.2em;padding-left: 0.2em;position: relative;}#sk-container-id-7 div.sk-item {position: relative;z-index: 1;}#sk-container-id-7 div.sk-parallel {display: flex;align-items: stretch;justify-content: center;background-color: white;position: relative;}#sk-container-id-7 div.sk-item::before, #sk-container-id-7 div.sk-parallel-item::before {content: \"\";position: absolute;border-left: 1px solid gray;box-sizing: border-box;top: 0;bottom: 0;left: 50%;z-index: -1;}#sk-container-id-7 div.sk-parallel-item {display: flex;flex-direction: column;z-index: 1;position: relative;background-color: white;}#sk-container-id-7 div.sk-parallel-item:first-child::after {align-self: flex-end;width: 50%;}#sk-container-id-7 div.sk-parallel-item:last-child::after {align-self: flex-start;width: 50%;}#sk-container-id-7 div.sk-parallel-item:only-child::after {width: 0;}#sk-container-id-7 div.sk-dashed-wrapped {border: 1px dashed gray;margin: 0 0.4em 0.5em 0.4em;box-sizing: border-box;padding-bottom: 0.4em;background-color: white;}#sk-container-id-7 div.sk-label label {font-family: monospace;font-weight: bold;display: inline-block;line-height: 1.2em;}#sk-container-id-7 div.sk-label-container {text-align: center;}#sk-container-id-7 div.sk-container {/* jupyter's `normalize.less` sets `[hidden] { display: none; }` but bootstrap.min.css set `[hidden] { display: none !important; }` so we also need the `!important` here to be able to override the default hidden behavior on the sphinx rendered scikit-learn.org. See: https://github.com/scikit-learn/scikit-learn/issues/21755 */display: inline-block !important;position: relative;}#sk-container-id-7 div.sk-text-repr-fallback {display: none;}</style><div id=\"sk-container-id-7\" class=\"sk-top-container\"><div class=\"sk-text-repr-fallback\"><pre>XGBRegressor(base_score=0.5, booster=&#x27;gbtree&#x27;, colsample_bylevel=1,\n",
       "             colsample_bynode=1, colsample_bytree=1, enable_categorical=False,\n",
       "             gamma=0, gpu_id=-1, importance_type=None,\n",
       "             interaction_constraints=&#x27;&#x27;, learning_rate=0.300000012,\n",
       "             max_delta_step=0, max_depth=6, min_child_weight=1, missing=nan,\n",
       "             monotone_constraints=&#x27;()&#x27;, n_estimators=100, n_jobs=4,\n",
       "             num_parallel_tree=1, predictor=&#x27;auto&#x27;, random_state=0, reg_alpha=0,\n",
       "             reg_lambda=1, scale_pos_weight=1, subsample=1, tree_method=&#x27;exact&#x27;,\n",
       "             validate_parameters=1, verbosity=None)</pre><b>In a Jupyter environment, please rerun this cell to show the HTML representation or trust the notebook. <br />On GitHub, the HTML representation is unable to render, please try loading this page with nbviewer.org.</b></div><div class=\"sk-container\" hidden><div class=\"sk-item\"><div class=\"sk-estimator sk-toggleable\"><input class=\"sk-toggleable__control sk-hidden--visually\" id=\"sk-estimator-id-7\" type=\"checkbox\" checked><label for=\"sk-estimator-id-7\" class=\"sk-toggleable__label sk-toggleable__label-arrow\">XGBRegressor</label><div class=\"sk-toggleable__content\"><pre>XGBRegressor(base_score=0.5, booster=&#x27;gbtree&#x27;, colsample_bylevel=1,\n",
       "             colsample_bynode=1, colsample_bytree=1, enable_categorical=False,\n",
       "             gamma=0, gpu_id=-1, importance_type=None,\n",
       "             interaction_constraints=&#x27;&#x27;, learning_rate=0.300000012,\n",
       "             max_delta_step=0, max_depth=6, min_child_weight=1, missing=nan,\n",
       "             monotone_constraints=&#x27;()&#x27;, n_estimators=100, n_jobs=4,\n",
       "             num_parallel_tree=1, predictor=&#x27;auto&#x27;, random_state=0, reg_alpha=0,\n",
       "             reg_lambda=1, scale_pos_weight=1, subsample=1, tree_method=&#x27;exact&#x27;,\n",
       "             validate_parameters=1, verbosity=None)</pre></div></div></div></div></div>"
      ],
      "text/plain": [
       "XGBRegressor(base_score=0.5, booster='gbtree', colsample_bylevel=1,\n",
       "             colsample_bynode=1, colsample_bytree=1, enable_categorical=False,\n",
       "             gamma=0, gpu_id=-1, importance_type=None,\n",
       "             interaction_constraints='', learning_rate=0.300000012,\n",
       "             max_delta_step=0, max_depth=6, min_child_weight=1, missing=nan,\n",
       "             monotone_constraints='()', n_estimators=100, n_jobs=4,\n",
       "             num_parallel_tree=1, predictor='auto', random_state=0, reg_alpha=0,\n",
       "             reg_lambda=1, scale_pos_weight=1, subsample=1, tree_method='exact',\n",
       "             validate_parameters=1, verbosity=None)"
      ]
     },
     "execution_count": 57,
     "metadata": {},
     "output_type": "execute_result"
    }
   ],
   "source": [
    "from xgboost import XGBRegressor\n",
    "xgb = XGBRegressor()\n",
    "xgb.fit(X_train, y_train)"
   ]
  },
  {
   "cell_type": "code",
   "execution_count": 58,
   "id": "987dbb52",
   "metadata": {},
   "outputs": [
    {
     "name": "stdout",
     "output_type": "stream",
     "text": [
      "Train MSE is:  771526.7620708488\n",
      "Test MSE is:  1236772.561729723\n",
      "\n",
      "Train RMSE is:  878.3659613571377\n",
      "Test RMSE is:  1112.102765813359\n",
      "\n",
      "Train MAE is:  641.8070704684887\n",
      "Test MAE is:  777.6534032164298\n",
      "\n",
      "Train R2 is:  0.9827021720783029\n",
      "Test R2 is:  0.9715130780191024\n"
     ]
    }
   ],
   "source": [
    "print('Train MSE is: ', mean_squared_error(xgb.predict(X_train), y_train))\n",
    "print('Test MSE is: ', mean_squared_error(xgb.predict(X_test), y_test))\n",
    "print()\n",
    "print('Train RMSE is: ',  math.sqrt(mean_squared_error(xgb.predict(X_train), y_train)))\n",
    "print('Test RMSE is: ', math.sqrt(mean_squared_error(xgb.predict(X_test), y_test)))\n",
    "print()\n",
    "print('Train MAE is: ', mean_absolute_error(xgb.predict(X_train), y_train))\n",
    "print('Test MAE is: ', mean_absolute_error(xgb.predict(X_test), y_test))\n",
    "print()\n",
    "print('Train R2 is: ', r2_score(xgb.predict(X_train), y_train))\n",
    "print('Test R2 is: ', r2_score(xgb.predict(X_test), y_test))"
   ]
  },
  {
   "cell_type": "code",
   "execution_count": 59,
   "id": "6b96beb9",
   "metadata": {},
   "outputs": [
    {
     "name": "stderr",
     "output_type": "stream",
     "text": [
      "c:\\Users\\Jammie99\\anaconda3\\envs\\pysnowpark\\lib\\site-packages\\xgboost\\data.py:250: FutureWarning: pandas.Int64Index is deprecated and will be removed from pandas in a future version. Use pandas.Index with the appropriate dtype instead.\n",
      "  elif isinstance(data.columns, (pd.Int64Index, pd.RangeIndex)):\n"
     ]
    },
    {
     "name": "stdout",
     "output_type": "stream",
     "text": [
      " Results from Grid Search \n",
      "\n",
      " The best estimator across ALL searched params:\n",
      " XGBRegressor(base_score=0.5, booster='gbtree', colsample_bylevel=1,\n",
      "             colsample_bynode=1, colsample_bytree=1, enable_categorical=False,\n",
      "             gamma=0, gpu_id=-1, importance_type=None,\n",
      "             interaction_constraints='', learning_rate=0.1, max_delta_step=0,\n",
      "             max_depth=10, min_child_weight=1, missing=nan,\n",
      "             monotone_constraints='()', n_estimators=400, n_jobs=4,\n",
      "             num_parallel_tree=1, predictor='auto', random_state=0, reg_alpha=0,\n",
      "             reg_lambda=1, scale_pos_weight=1, subsample=0.8,\n",
      "             tree_method='exact', validate_parameters=1, verbosity=None)\n",
      "\n",
      " The best score across ALL searched params:\n",
      " 0.9757766644663006\n",
      "\n",
      " The best parameters across ALL searched params:\n",
      " {'learning_rate': 0.1, 'max_depth': 10, 'n_estimators': 400, 'subsample': 0.8}\n"
     ]
    }
   ],
   "source": [
    "xgb = XGBRegressor()\n",
    "param_grid = {'learning_rate': [0.01,0.05,0.1,0.15,0.2],\n",
    "                  'subsample'    : [0.6, 0.8, 1.0],\n",
    "                  'n_estimators' : [100,200,300,400],\n",
    "                  'max_depth'    : [4,6,8,10,12,14]\n",
    "                 }\n",
    "\n",
    "grid_xgb = GridSearchCV(estimator=xgb, param_grid = param_grid, cv = 2, n_jobs=-1)\n",
    "grid_xgb.fit(X_train, y_train)\n",
    "\n",
    "print(\" Results from Grid Search \" )\n",
    "print(\"\\n The best estimator across ALL searched params:\\n\",grid_xgb.best_estimator_)\n",
    "print(\"\\n The best score across ALL searched params:\\n\",grid_xgb.best_score_)\n",
    "print(\"\\n The best parameters across ALL searched params:\\n\",grid_xgb.best_params_)"
   ]
  },
  {
   "cell_type": "code",
   "execution_count": 60,
   "id": "9aaabb92",
   "metadata": {},
   "outputs": [
    {
     "name": "stdout",
     "output_type": "stream",
     "text": [
      "Train MSE is:  1815.4656023779064\n",
      "Test MSE is:  146385.32354208705\n",
      "\n",
      "Train RMSE is:  42.608280913196985\n",
      "Test RMSE is:  382.60335014488186\n",
      "\n",
      "Train MAE is:  28.535682923807787\n",
      "Test MAE is:  164.51858717007198\n",
      "\n",
      "Train R2 is:  0.9999608631922685\n",
      "Test R2 is:  0.9967669455478382\n"
     ]
    }
   ],
   "source": [
    "xgb = XGBRegressor(learning_rate= 0.1, max_depth= 10, n_estimators= 400, subsample= 0.8)\n",
    "xgb.fit(X_train, y_train)\n",
    "print('Train MSE is: ', mean_squared_error(xgb.predict(X_train), y_train))\n",
    "print('Test MSE is: ', mean_squared_error(xgb.predict(X_test), y_test))\n",
    "print()\n",
    "print('Train RMSE is: ',  math.sqrt(mean_squared_error(xgb.predict(X_train), y_train)))\n",
    "print('Test RMSE is: ', math.sqrt(mean_squared_error(xgb.predict(X_test), y_test)))\n",
    "print()\n",
    "print('Train MAE is: ', mean_absolute_error(xgb.predict(X_train), y_train))\n",
    "print('Test MAE is: ', mean_absolute_error(xgb.predict(X_test), y_test))\n",
    "print()\n",
    "print('Train R2 is: ', r2_score(xgb.predict(X_train), y_train))\n",
    "print('Test R2 is: ', r2_score(xgb.predict(X_test), y_test))"
   ]
  },
  {
   "cell_type": "code",
   "execution_count": 61,
   "id": "4932cc3c",
   "metadata": {},
   "outputs": [
    {
     "name": "stderr",
     "output_type": "stream",
     "text": [
      "c:\\Users\\Jammie99\\anaconda3\\envs\\pysnowpark\\lib\\site-packages\\xgboost\\data.py:250: FutureWarning: pandas.Int64Index is deprecated and will be removed from pandas in a future version. Use pandas.Index with the appropriate dtype instead.\n",
      "  elif isinstance(data.columns, (pd.Int64Index, pd.RangeIndex)):\n"
     ]
    },
    {
     "name": "stdout",
     "output_type": "stream",
     "text": [
      " Results from Grid Search \n",
      "\n",
      " The best estimator across ALL searched params:\n",
      " XGBRegressor(base_score=0.5, booster='gbtree', colsample_bylevel=1,\n",
      "             colsample_bynode=1, colsample_bytree=1, enable_categorical=False,\n",
      "             gamma=0, gpu_id=-1, importance_type=None,\n",
      "             interaction_constraints='', learning_rate=0.04, max_delta_step=0,\n",
      "             max_depth=10, min_child_weight=1, missing=nan,\n",
      "             monotone_constraints='()', n_estimators=1500, n_jobs=4,\n",
      "             num_parallel_tree=1, predictor='auto', random_state=0, reg_alpha=0,\n",
      "             reg_lambda=1, scale_pos_weight=1, subsample=0.9,\n",
      "             tree_method='exact', validate_parameters=1, verbosity=None)\n",
      "\n",
      " The best score across ALL searched params:\n",
      " 0.9765229712336982\n",
      "\n",
      " The best parameters across ALL searched params:\n",
      " {'learning_rate': 0.04, 'max_depth': 10, 'n_estimators': 1500, 'subsample': 0.9}\n"
     ]
    }
   ],
   "source": [
    "xgb = XGBRegressor()\n",
    "param_grid = {'learning_rate': [0.02,0.03,0.04,0.05],\n",
    "                  'subsample'    : [0.9, 0.5, 0.2],\n",
    "                  'n_estimators' : [500,1000, 1500],\n",
    "                  'max_depth'    : [4,6,8,10,12]\n",
    "                 }\n",
    "\n",
    "grid_xgb = GridSearchCV(estimator=xgb, param_grid = param_grid, cv = 2, n_jobs=-1)\n",
    "grid_xgb.fit(X_train, y_train)\n",
    "\n",
    "print(\" Results from Grid Search \" )\n",
    "print(\"\\n The best estimator across ALL searched params:\\n\",grid_xgb.best_estimator_)\n",
    "print(\"\\n The best score across ALL searched params:\\n\",grid_xgb.best_score_)\n",
    "print(\"\\n The best parameters across ALL searched params:\\n\",grid_xgb.best_params_)"
   ]
  },
  {
   "cell_type": "code",
   "execution_count": 64,
   "id": "7ea86930",
   "metadata": {},
   "outputs": [
    {
     "name": "stderr",
     "output_type": "stream",
     "text": [
      "c:\\Users\\Jammie99\\anaconda3\\envs\\pysnowpark\\lib\\site-packages\\xgboost\\data.py:250: FutureWarning: pandas.Int64Index is deprecated and will be removed from pandas in a future version. Use pandas.Index with the appropriate dtype instead.\n",
      "  elif isinstance(data.columns, (pd.Int64Index, pd.RangeIndex)):\n"
     ]
    },
    {
     "name": "stdout",
     "output_type": "stream",
     "text": [
      "Train MSE is:  269.675436680646\n",
      "Test MSE is:  121178.14241816645\n",
      "\n",
      "Train RMSE is:  16.421797608077075\n",
      "Test RMSE is:  348.1065101634361\n",
      "\n",
      "Train MAE is:  10.917472028198471\n",
      "Test MAE is:  139.92044363446604\n",
      "\n",
      "Train R2 is:  0.9999941906116675\n",
      "Test R2 is:  0.9973240042565259\n"
     ]
    }
   ],
   "source": [
    "xgb = XGBRegressor(learning_rate= 0.04, max_depth= 10, n_estimators= 1500, subsample= 0.9)\n",
    "xgb.fit(X_train, y_train)\n",
    "print('Train MSE is: ', mean_squared_error(xgb.predict(X_train), y_train))\n",
    "print('Test MSE is: ', mean_squared_error(xgb.predict(X_test), y_test))\n",
    "print()\n",
    "print('Train RMSE is: ',  math.sqrt(mean_squared_error(xgb.predict(X_train), y_train)))\n",
    "print('Test RMSE is: ', math.sqrt(mean_squared_error(xgb.predict(X_test), y_test)))\n",
    "print()\n",
    "print('Train MAE is: ', mean_absolute_error(xgb.predict(X_train), y_train))\n",
    "print('Test MAE is: ', mean_absolute_error(xgb.predict(X_test), y_test))\n",
    "print()\n",
    "print('Train R2 is: ', r2_score(xgb.predict(X_train), y_train))\n",
    "print('Test R2 is: ', r2_score(xgb.predict(X_test), y_test))"
   ]
  },
  {
   "cell_type": "code",
   "execution_count": 65,
   "id": "e64e9696",
   "metadata": {},
   "outputs": [
    {
     "name": "stderr",
     "output_type": "stream",
     "text": [
      "c:\\Users\\Jammie99\\anaconda3\\envs\\pysnowpark\\lib\\site-packages\\xgboost\\data.py:250: FutureWarning: pandas.Int64Index is deprecated and will be removed from pandas in a future version. Use pandas.Index with the appropriate dtype instead.\n",
      "  elif isinstance(data.columns, (pd.Int64Index, pd.RangeIndex)):\n"
     ]
    },
    {
     "name": "stdout",
     "output_type": "stream",
     "text": [
      " Results from Grid Search \n",
      "\n",
      " The best estimator across ALL searched params:\n",
      " XGBRegressor(base_score=0.5, booster='gbtree', colsample_bylevel=1,\n",
      "             colsample_bynode=1, colsample_bytree=1, enable_categorical=False,\n",
      "             gamma=0, gpu_id=-1, importance_type=None,\n",
      "             interaction_constraints='', learning_rate=0.04, max_delta_step=0,\n",
      "             max_depth=10, min_child_weight=1, missing=nan,\n",
      "             monotone_constraints='()', n_estimators=1700, n_jobs=4,\n",
      "             num_parallel_tree=1, predictor='auto', random_state=0, reg_alpha=0,\n",
      "             reg_lambda=1, scale_pos_weight=1, subsample=0.9,\n",
      "             tree_method='exact', validate_parameters=1, verbosity=None)\n",
      "\n",
      " The best score across ALL searched params:\n",
      " 0.9765622664428726\n",
      "\n",
      " The best parameters across ALL searched params:\n",
      " {'learning_rate': 0.04, 'max_depth': 10, 'n_estimators': 1700, 'subsample': 0.9}\n"
     ]
    }
   ],
   "source": [
    "xgb = XGBRegressor()\n",
    "param_grid = {'learning_rate': [0.04],\n",
    "                  'subsample'    : [0.9],\n",
    "                  'n_estimators' : [1500,1600,1700],\n",
    "                  'max_depth'    : [10]\n",
    "                 }\n",
    "\n",
    "grid_xgb = GridSearchCV(estimator=xgb, param_grid = param_grid, cv = 2, n_jobs=-1)\n",
    "grid_xgb.fit(X_train, y_train)\n",
    "\n",
    "print(\" Results from Grid Search \" )\n",
    "print(\"\\n The best estimator across ALL searched params:\\n\",grid_xgb.best_estimator_)\n",
    "print(\"\\n The best score across ALL searched params:\\n\",grid_xgb.best_score_)\n",
    "print(\"\\n The best parameters across ALL searched params:\\n\",grid_xgb.best_params_)"
   ]
  },
  {
   "cell_type": "code",
   "execution_count": 67,
   "id": "0d752ff0",
   "metadata": {},
   "outputs": [
    {
     "name": "stderr",
     "output_type": "stream",
     "text": [
      "c:\\Users\\Jammie99\\anaconda3\\envs\\pysnowpark\\lib\\site-packages\\xgboost\\data.py:250: FutureWarning: pandas.Int64Index is deprecated and will be removed from pandas in a future version. Use pandas.Index with the appropriate dtype instead.\n",
      "  elif isinstance(data.columns, (pd.Int64Index, pd.RangeIndex)):\n"
     ]
    },
    {
     "name": "stdout",
     "output_type": "stream",
     "text": [
      "Train MSE is:  160.7802588711393\n",
      "Test MSE is:  120026.35909454244\n",
      "\n",
      "Train RMSE is:  12.679915570347434\n",
      "Test RMSE is:  346.4482055005372\n",
      "\n",
      "Train MAE is:  8.476168548338265\n",
      "Test MAE is:  137.24512322204365\n",
      "\n",
      "Train R2 is:  0.9999965367888077\n",
      "Test R2 is:  0.9973498725796527\n"
     ]
    }
   ],
   "source": [
    "xgb = XGBRegressor(learning_rate= 0.04, max_depth= 10, n_estimators= 1700, subsample= 0.9)\n",
    "xgb.fit(X_train, y_train)\n",
    "print('Train MSE is: ', mean_squared_error(xgb.predict(X_train), y_train))\n",
    "print('Test MSE is: ', mean_squared_error(xgb.predict(X_test), y_test))\n",
    "print()\n",
    "print('Train RMSE is: ',  math.sqrt(mean_squared_error(xgb.predict(X_train), y_train)))\n",
    "print('Test RMSE is: ', math.sqrt(mean_squared_error(xgb.predict(X_test), y_test)))\n",
    "print()\n",
    "print('Train MAE is: ', mean_absolute_error(xgb.predict(X_train), y_train))\n",
    "print('Test MAE is: ', mean_absolute_error(xgb.predict(X_test), y_test))\n",
    "print()\n",
    "print('Train R2 is: ', r2_score(xgb.predict(X_train), y_train))\n",
    "print('Test R2 is: ', r2_score(xgb.predict(X_test), y_test))"
   ]
  }
 ],
 "metadata": {
  "kernelspec": {
   "display_name": "Python 3 (ipykernel)",
   "language": "python",
   "name": "python3"
  },
  "language_info": {
   "codemirror_mode": {
    "name": "ipython",
    "version": 3
   },
   "file_extension": ".py",
   "mimetype": "text/x-python",
   "name": "python",
   "nbconvert_exporter": "python",
   "pygments_lexer": "ipython3",
   "version": "3.8.16"
  }
 },
 "nbformat": 4,
 "nbformat_minor": 5
}
